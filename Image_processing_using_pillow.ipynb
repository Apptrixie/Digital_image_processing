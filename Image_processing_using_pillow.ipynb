{
  "nbformat": 4,
  "nbformat_minor": 0,
  "metadata": {
    "colab": {
      "name": "Image_processing_using_pillow.ipynb",
      "provenance": [],
      "authorship_tag": "ABX9TyPUD+jjcGlIgpCkHqZy+v3v",
      "include_colab_link": true
    },
    "kernelspec": {
      "name": "python3",
      "display_name": "Python 3"
    },
    "language_info": {
      "name": "python"
    }
  },
  "cells": [
    {
      "cell_type": "markdown",
      "metadata": {
        "id": "view-in-github",
        "colab_type": "text"
      },
      "source": [
        "<a href=\"https://colab.research.google.com/github/Apptrixie/Digital_image_processing/blob/main/Image_processing_using_pillow.ipynb\" target=\"_parent\"><img src=\"https://colab.research.google.com/assets/colab-badge.svg\" alt=\"Open In Colab\"/></a>"
      ]
    },
    {
      "cell_type": "markdown",
      "metadata": {
        "id": "Mmzv8Sj9yrl_"
      },
      "source": [
        "#<u>Image processing using pillow library<u/>"
      ]
    },
    {
      "cell_type": "markdown",
      "metadata": {
        "id": "5d_R5mBGy6VZ"
      },
      "source": [
        "Pillow is used for basic image processing like image cropping, image rotation, changing color spaces. \n",
        "\n",
        "But, to do advanced processing like using ML on images, object recognition, image segmentation, we use libraries like openCV, scikit-image, scikit-learn, numpy for applying math to your images. "
      ]
    },
    {
      "cell_type": "code",
      "metadata": {
        "id": "ZF1VOEpfzuY3"
      },
      "source": [
        ""
      ],
      "execution_count": null,
      "outputs": []
    }
  ]
}