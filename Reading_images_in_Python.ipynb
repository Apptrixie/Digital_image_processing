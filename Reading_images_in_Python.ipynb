{
  "nbformat": 4,
  "nbformat_minor": 0,
  "metadata": {
    "colab": {
      "name": "Reading images in Python.ipynb",
      "provenance": [],
      "collapsed_sections": [],
      "authorship_tag": "ABX9TyMuRyygnVc9pjvTKfYlWBm5",
      "include_colab_link": true
    },
    "kernelspec": {
      "name": "python3",
      "display_name": "Python 3"
    },
    "language_info": {
      "name": "python"
    }
  },
  "cells": [
    {
      "cell_type": "markdown",
      "metadata": {
        "id": "view-in-github",
        "colab_type": "text"
      },
      "source": [
        "<a href=\"https://colab.research.google.com/github/Apptrixie/Digital_image_processing/blob/main/Reading_images_in_Python.ipynb\" target=\"_parent\"><img src=\"https://colab.research.google.com/assets/colab-badge.svg\" alt=\"Open In Colab\"/></a>"
      ]
    },
    {
      "cell_type": "markdown",
      "metadata": {
        "id": "D2j2ZVAUc7CQ"
      },
      "source": [
        "#<u>Reading images in Python</u>\n",
        "\n",
        "1.   List item\n",
        "2.   List item\n",
        "\n"
      ]
    },
    {
      "cell_type": "markdown",
      "metadata": {
        "id": "UFsljhUjc-Pt"
      },
      "source": [
        "There many different ways for reading images and there are various libraries which do the work at hand.  \n",
        "The 4 primary libraries which can handle image processing are   \n",
        "pillow - for loading and reading images, imported as pil  \n",
        "matplotlib  \n",
        "scikit image    \n",
        "OpenCV  \n",
        "For loading proprietary images, for eg. working with czi images (microscopic images are in this format) and these images have all the metadata you will need.\n",
        ".ometif is open microscopy environment tag image file is another format for microscopic images that has an embedded xml file that contains all the metadata of the about that specific file.  \n",
        "\n",
        "Bio-Formats is an API that enables you to load any image in any format and to save it into any other format.c"
      ]
    }
  ]
}